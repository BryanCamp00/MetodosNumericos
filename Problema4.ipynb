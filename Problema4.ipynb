{
  "nbformat": 4,
  "nbformat_minor": 0,
  "metadata": {
    "colab": {
      "name": "Problema4.ipynb",
      "provenance": [],
      "collapsed_sections": []
    },
    "kernelspec": {
      "name": "python3",
      "display_name": "Python 3"
    }
  },
  "cells": [
    {
      "cell_type": "code",
      "metadata": {
        "id": "BKrTXtWGZ2kg",
        "outputId": "a42cb34d-bcbf-437a-b584-efefdb181033",
        "colab": {
          "base_uri": "https://localhost:8080/",
          "height": 85
        }
      },
      "source": [
        "import matplotlib.pyplot as plt\n",
        "import math\n",
        "def biseccion():\n",
        "    print(\"Metodo de la biseccion\")\n",
        "    print(\"Suponiendo nuestra funcion sea x a la 3.5 - 80 \")\n",
        "    print(\"Siendo los intervalos [1,3]\")\n",
        "    xl=1\n",
        "    xu=3\n",
        "    fxl=(math.sqrt((xl**7)))\n",
        "    fxu=(math.sqrt((xu**7)))\n",
        "    xrgrafico=[]\n",
        "    xlgrafico=[]\n",
        "    xugrafico=[]\n",
        "    xlgrafico.append(xl)\n",
        "    xugrafico.append(xu)\n",
        "    if (fxu*fxl<0):\n",
        "        xr=(xl+xu)/2\n",
        "        fxr =(math.sqrt((xr**7)))\n",
        "        xrgrafico.append(xr)\n",
        "        xlgrafico.append(xl)\n",
        "        xugrafico.append(xu)\n",
        "        c=0\n",
        "        print(\"El valor de xr es \"+ str(xr))\n",
        "        er = 1\n",
        "        while er > (10**-5):\n",
        "            if(fxu*fxr<0):\n",
        "                xl=xr\n",
        "                fxl =(math.sqrt((xl**7)))\n",
        "                fxu =(math.sqrt((xu**7)))\n",
        "                xr = (xl + xu) / 2\n",
        "                fxr =(math.sqrt((xr**7)))\n",
        "                er=(xr-xl)/xr\n",
        "                xrgrafico.append(xr)\n",
        "                xlgrafico.append(xl)\n",
        "                xugrafico.append(xu)\n",
        "                print(\"El valor de xr es \"+ str(xr))\n",
        "            if (fxl * fxr < 0):\n",
        "                xu=xr\n",
        "                fxl =(math.sqrt((xl**7)))\n",
        "                fxu =(math.sqrt((xu**7)))\n",
        "                xr = (xl + xu) / 2\n",
        "                fxr =(math.sqrt((xr**7)))\n",
        "                er = (xr - xl) / xr\n",
        "                xrgrafico.append(xr)\n",
        "                xlgrafico.append(xl)\n",
        "                xugrafico.append(xu)\n",
        "                print(\"El valor de xr es \"+ str(xr))\n",
        "            if (fxu*fxr>0 and fxl*fxr>0):\n",
        "                print(\"No tiene raiz, fin del programa\")\n",
        "        plt.plot(xrgrafico)\n",
        "        plt.plot(xlgrafico)\n",
        "        plt.plot(xugrafico)\n",
        "        plt.show\n",
        "    else:\n",
        "        print(\"No tiene raiz, fin del programa\")\n",
        "biseccion()"
      ],
      "execution_count": 1,
      "outputs": [
        {
          "output_type": "stream",
          "text": [
            "Metodo de la biseccion\n",
            "Suponiendo nuestra funcion sea x a la 3.5 - 80 \n",
            "Siendo los intervalos [1,3]\n",
            "No tiene raiz, fin del programa\n"
          ],
          "name": "stdout"
        }
      ]
    },
    {
      "cell_type": "code",
      "metadata": {
        "id": "Hjuqty0PZ_2V",
        "outputId": "ae4ce79a-561a-454d-b854-45e7c34ce873",
        "colab": {
          "base_uri": "https://localhost:8080/",
          "height": 85
        }
      },
      "source": [
        "import matplotlib.pyplot as plt\n",
        "import math\n",
        "def fposicion():\n",
        "    print(\"Metodo de la Falsa posicion\")\n",
        "    print(\"Suponiendo nuestra funcion sea x a la 3.5 - 80 \")\n",
        "    print(\"Siendo los intervalos [1,3]\")\n",
        "    xl=1\n",
        "    xu=3\n",
        "    fxl=(math.sqrt((xl**7)))\n",
        "    fxu=(math.sqrt((xu**7)))\n",
        "    xrgrafico=[]\n",
        "    xlgrafico=[]\n",
        "    xugrafico=[]\n",
        "    xlgrafico.append(xl)\n",
        "    xugrafico.append(xu)\n",
        "    if(fxu*fxl<0):\n",
        "        xr=(xu-((fxu*(xl-xu)/(fxl-fxu))))\n",
        "        fxr = (math.sqrt((xr**7)))\n",
        "        xrgrafico.append(xr)\n",
        "        xlgrafico.append(xl)\n",
        "        xugrafico.append(xu)\n",
        "        c=0\n",
        "        print(\"El valor de xr es \"+ str(xr))\n",
        "        er = 1\n",
        "        while er > (10**-5):\n",
        "            if(fxu*fxr<0):\n",
        "                xl=xr\n",
        "                fxl = (math.sqrt((xl**7)))\n",
        "                fxu = (math.sqrt((xu**7)))\n",
        "                xr = (xu-((fxu*(xl-xu)/(fxl-fxu))))\n",
        "                fxr = (math.sqrt((xr**7)))\n",
        "                er=(xr-xl)/xr\n",
        "                xrgrafico.append(xr)\n",
        "                xlgrafico.append(xl)\n",
        "                xugrafico.append(xu)\n",
        "                print(\"El valor de xr es \"+ str(xr))\n",
        "            if (fxl * fxr < 0):\n",
        "                xu=xr\n",
        "                fxl =(math.sqrt((xl**7)))\n",
        "                fxu =(math.sqrt((xu**7)))\n",
        "                xr = (xu-((fxu*(xl-xu)/(fxl-fxu))))\n",
        "                fxr =(math.sqrt((xr**7)))\n",
        "                er = (xr - xl) / xr\n",
        "                xrgrafico.append(xr)\n",
        "                xlgrafico.append(xl)\n",
        "                xugrafico.append(xu)\n",
        "                print(\"El valor de xr es \"+ str(xr))\n",
        "            if (fxu*fxr>0 and fxl*fxr>0):\n",
        "                print(\"No tiene raiz, fin del programa\")\n",
        "        plt.plot(xrgrafico)\n",
        "        plt.plot(xlgrafico)\n",
        "        plt.plot(xugrafico)\n",
        "        plt.show\n",
        "    else:\n",
        "        print(\"No tiene raiz, fin del programa\")\n",
        "fposicion()"
      ],
      "execution_count": 2,
      "outputs": [
        {
          "output_type": "stream",
          "text": [
            "Metodo de la Falsa posicion\n",
            "Suponiendo nuestra funcion sea x a la 3.5 - 80 \n",
            "Siendo los intervalos [1,3]\n",
            "No tiene raiz, fin del programa\n"
          ],
          "name": "stdout"
        }
      ]
    }
  ]
}