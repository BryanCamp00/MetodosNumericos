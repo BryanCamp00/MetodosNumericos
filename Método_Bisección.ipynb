{
  "nbformat": 4,
  "nbformat_minor": 0,
  "metadata": {
    "colab": {
      "name": "Método Bisección ",
      "provenance": [],
      "collapsed_sections": []
    },
    "kernelspec": {
      "name": "python3",
      "display_name": "Python 3"
    }
  },
  "cells": [
    {
      "cell_type": "code",
      "metadata": {
        "id": "rjr070fOGXh7",
        "outputId": "d354d781-ba24-4e6c-ed3d-9b36b7cad8cb",
        "colab": {
          "base_uri": "https://localhost:8080/"
        }
      },
      "source": [
        "def biseccion():\n",
        "    print(\"Metodo de la biseccion\")\n",
        "    print(\"Suponiendo que nuestra funcion sea x al cubo + 4x cuadrada - 10\")\n",
        "    print(\"los intervalos son [1,2]\")\n",
        "    xl=1\n",
        "    xu=2\n",
        "    fxl=(xl**3)+(4*(xl**2)-10)\n",
        "    fxu = (xu ** 3) + (4 * (xu ** 2) - 10)\n",
        "    if(fxu*fxl<0):\n",
        "        xr=(xl+xu)/2\n",
        "        fxr = (xr ** 3) + (4 * (xr ** 2) - 10)\n",
        "        print(xr)\n",
        "        er = 1\n",
        "        while er > 0.001:\n",
        "            if(fxu*fxr<0):\n",
        "                xl=xr\n",
        "                fxl = (xl ** 3) + (4 * (xl ** 2) - 10)\n",
        "                fxu = (xu ** 3) + (4 * (xu ** 2) - 10)\n",
        "                xr = (xl + xu) / 2\n",
        "                fxr = (xr ** 3) + (4 * (xr ** 2) - 10)\n",
        "                er=(xr-xl)/xr\n",
        "                print(xr)\n",
        "            if (fxl * fxr < 0):\n",
        "                xu=xr\n",
        "                fxl = (xl ** 3) + (4 * (xl ** 2) - 10)\n",
        "                fxu = (xu ** 3) + (4 * (xu ** 2) - 10)\n",
        "                xr = (xl + xu) / 2\n",
        "                fxr = (xr ** 3) + (4 * (xr ** 2) - 10)\n",
        "                er = (xr - xl) / xr\n",
        "                print(xr)\n",
        "            if (fxu*fxr>0 and fxl*fxr>0):\n",
        "                print(\"No tiene raiz, fin del programa\")\n",
        "    else:\n",
        "        print(\"No tiene raiz, fin del programa\")\n",
        "biseccion()"
      ],
      "execution_count": 6,
      "outputs": [
        {
          "output_type": "stream",
          "text": [
            "Metodo de la biseccion\n",
            "Suponiendo que nuestra funcion sea x al cubo + 4x cuadrada - 10\n",
            "los intervalos son [1,2]\n",
            "1.5\n",
            "1.25\n",
            "1.375\n",
            "1.3125\n",
            "1.34375\n",
            "1.359375\n",
            "1.3671875\n",
            "1.36328125\n",
            "1.365234375\n",
            "1.3642578125\n"
          ],
          "name": "stdout"
        }
      ]
    }
  ]
}