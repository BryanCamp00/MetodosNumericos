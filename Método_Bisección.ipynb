{
  "nbformat": 4,
  "nbformat_minor": 0,
  "metadata": {
    "colab": {
      "name": "Método Bisección ",
      "provenance": [],
      "collapsed_sections": []
    },
    "kernelspec": {
      "name": "python3",
      "display_name": "Python 3"
    }
  },
  "cells": [
    {
      "cell_type": "code",
      "metadata": {
        "id": "rjr070fOGXh7",
        "outputId": "333bc4d5-5f42-40d6-df0b-8b53efc8137b",
        "colab": {
          "base_uri": "https://localhost:8080/"
        }
      },
      "source": [
        "print(\"Método de la Bisección\")\n",
        "def biseccion(xu = float(2), xl = float(1)):\n",
        "  if(xu < xl):\n",
        "    print(\"Recuerde que Xu debe ser mayor que Xl\")\n",
        "    sys.exit()\n",
        "  fxu = float((xu * xu * xu) + (4 * (xu * xu)) - 10)\n",
        "  fxl = float((xl * xl * xl) + (4 * (xl * xl)) - 10)\n",
        "  print(\"El valor de F(Xu) es: \" + str(fxu))\n",
        "  print(\"El valor de F(Xl) es: \" + str(fxl))\n",
        "  fxul = float((fxu * fxl))\n",
        "  if(fxul > 0):\n",
        "    print(\"No hay raiz en este intervalo\")\n",
        "    sys.exit()\n",
        "  xr = float((xl + xu)/2)\n",
        "  fxr = float((xr * xr * xr) + (4 * (xr * xr)) - 10)\n",
        "  print(\"El valor de F(Xr) es: \" + str(fxr))\n",
        "\n",
        "biseccion()"
      ],
      "execution_count": 3,
      "outputs": [
        {
          "output_type": "stream",
          "text": [
            "Método de la Bisección\n",
            "El valor de F(Xu) es: 14.0\n",
            "El valor de F(Xl) es: -5.0\n",
            "El valor de F(Xr) es: 2.375\n"
          ],
          "name": "stdout"
        }
      ]
    }
  ]
}