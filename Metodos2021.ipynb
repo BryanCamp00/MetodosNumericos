{
  "nbformat": 4,
  "nbformat_minor": 0,
  "metadata": {
    "colab": {
      "name": "Metodos2021",
      "provenance": [],
      "collapsed_sections": []
    },
    "kernelspec": {
      "name": "python3",
      "display_name": "Python 3"
    }
  },
  "cells": [
    {
      "cell_type": "code",
      "metadata": {
        "colab": {
          "base_uri": "https://localhost:8080/",
          "height": 387
        },
        "id": "WJCqc9d3oOmR",
        "outputId": "55ab56e1-8f58-4f57-cc73-2ff3070b1cb4"
      },
      "source": [
        "import matplotlib.pyplot as plt\r\n",
        "import math\r\n",
        "\r\n",
        "def a1(y):\r\n",
        "    return (.25 + (.25*y))\r\n",
        "def a2(x, z):\r\n",
        "  return ((.25) + (.25*x) + (.25*z))\r\n",
        "def a3(y, w):\r\n",
        "    return ((.25) + (.25*y) + (.25*w))\r\n",
        "def a4(z):\r\n",
        "    return (.25 + (.25*z))\r\n",
        "\r\n",
        "def Metodos2021():\r\n",
        "  Pf2()\r\n",
        "\r\n",
        "def Pf2():\r\n",
        "  xD=[]\r\n",
        "  xD.append(0)\r\n",
        "  yD=[]\r\n",
        "  yD.append(0)\r\n",
        "  zD=[]\r\n",
        "  zD.append(0)\r\n",
        "  wD=[]\r\n",
        "  wD.append(0)\r\n",
        "  cont = 0\r\n",
        "  x = 0\r\n",
        "  y = 0\r\n",
        "  z = 0\r\n",
        "  w = 0\r\n",
        "  while(cont < 11):\r\n",
        "    xd = e1(y)\r\n",
        "    xD.append(xd)\r\n",
        "    yd = e2(x , z)\r\n",
        "    yD.append(yd)\r\n",
        "    zd = e3(y, w)\r\n",
        "    zD.append(zd)\r\n",
        "    wd = e4(z)\r\n",
        "    wD.append(wd)\r\n",
        "    x = xd\r\n",
        "    y = yd\r\n",
        "    z = zd\r\n",
        "    w = wd\r\n",
        "    cont += 1\r\n",
        "  plt.plot(xD, label = \"x\")\r\n",
        "  plt.plot(yD, label = \"y\")\r\n",
        "  plt.plot(zD, label = \"z\")\r\n",
        "  plt.plot(wD, label = \"w\")\r\n",
        "  plt.legend()\r\n",
        "  plt.show()\r\n",
        "  print(\"Iteraciones \\n\")\r\n",
        "  print(\"x : \" + str(xD))\r\n",
        "  print(\"y : \" + str(yD))\r\n",
        "  print(\"z : \" + str(zD))\r\n",
        "  print(\"w : \" + str(wD))\r\n",
        "\r\n",
        "Metodos2021()"
      ],
      "execution_count": 18,
      "outputs": [
        {
          "output_type": "display_data",
          "data": {
            "image/png": "[encoded data removed]",
            "text/plain": [
              "<Figure size 432x288 with 1 Axes>"
            ]
          },
          "metadata": {
            "tags": [],
            "needs_background": "light"
          }
        },
        {
          "output_type": "stream",
          "text": [
            "Iteraciones \n",
            "\n",
            "x : [0, 0.25, 0.3125, 0.34375, 0.35546875, 0.3603515625, 0.3623046875, 0.36309814453125, 0.3634185791015625, 0.36354827880859375, 0.3636007308959961, 0.36362195014953613]\n",
            "y : [0, 0.25, 0.375, 0.421875, 0.44140625, 0.44921875, 0.452392578125, 0.45367431640625, 0.454193115234375, 0.4544029235839844, 0.45448780059814453, 0.45452213287353516]\n",
            "z : [0, 0.25, 0.375, 0.421875, 0.44140625, 0.44921875, 0.452392578125, 0.45367431640625, 0.454193115234375, 0.4544029235839844, 0.45448780059814453, 0.45452213287353516]\n",
            "w : [0, 0.25, 0.3125, 0.34375, 0.35546875, 0.3603515625, 0.3623046875, 0.36309814453125, 0.3634185791015625, 0.36354827880859375, 0.3636007308959961, 0.36362195014953613]\n"
          ],
          "name": "stdout"
        }
      ]
    }
  ]
}