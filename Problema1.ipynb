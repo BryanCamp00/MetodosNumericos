{
  "nbformat": 4,
  "nbformat_minor": 0,
  "metadata": {
    "colab": {
      "name": "Problema1.ipynb",
      "provenance": [],
      "collapsed_sections": []
    },
    "kernelspec": {
      "name": "python3",
      "display_name": "Python 3"
    }
  },
  "cells": [
    {
      "cell_type": "code",
      "metadata": {
        "id": "EBWRJWHSEfb2",
        "outputId": "456adae2-7faf-4f07-d32c-21af326f9df4",
        "colab": {
          "base_uri": "https://localhost:8080/",
          "height": 605
        }
      },
      "source": [
        "import matplotlib.pyplot as plt\n",
        "import math\n",
        "def biseccion():\n",
        "    print(\"Metodo de la biseccion\")\n",
        "    print(\"Suponiendo nuestra funcion sea 0.5x al cuadrado + 2.5x + 4.5\")\n",
        "    print(\"Siendo los intervalos [5,7]\")\n",
        "    xl=5\n",
        "    xu=7\n",
        "    fxl=((-0.5*(xl**2))+(2.5*xl)+4.5)\n",
        "    fxu=((-0.5*(xu**2))+(2.5*xu)+4.5)\n",
        "    print(fxl)\n",
        "    print(fxu)\n",
        "    xrgrafico=[]\n",
        "    xlgrafico=[]\n",
        "    xugrafico=[]\n",
        "    xlgrafico.append(xl)\n",
        "    xugrafico.append(xu)\n",
        "    if (fxu*fxl<0):\n",
        "        xr=(xl+xu)/2\n",
        "        fxr =((-0.5*(xr**2))+(2.5*xr)+4.5)\n",
        "        xrgrafico.append(xr)\n",
        "        xlgrafico.append(xl)\n",
        "        xugrafico.append(xu)\n",
        "        c=0\n",
        "        print(\"El valor de xr es \"+ str(xr))\n",
        "        er = 1\n",
        "        while er > (10**-5):\n",
        "            if(fxu*fxr<0):\n",
        "                xl=xr\n",
        "                fxl = ((-0.5*(xl**2))+(2.5*xl)+4.5)\n",
        "                fxu = ((-0.5*(xu**2))+(2.5*xu)+4.5)\n",
        "                xr = (xl + xu) / 2\n",
        "                fxr = ((-0.5*(xr**2))+(2.5*xr)+4.5)\n",
        "                er=(xr-xl)/xr\n",
        "                xrgrafico.append(xr)\n",
        "                xlgrafico.append(xl)\n",
        "                xugrafico.append(xu)\n",
        "                print(\"El valor de xr es \"+ str(xr))\n",
        "            if (fxl * fxr < 0):\n",
        "                xu=xr\n",
        "                fxl =((-0.5*(xl**2))+(2.5*xl)+4.5)\n",
        "                fxu =((-0.5*(xu**2))+(2.5*xu)+4.5)\n",
        "                xr = (xl + xu) / 2\n",
        "                fxr =((-0.5*(xr**2))+(2.5*xr)+4.5)\n",
        "                er = (xr - xl) / xr\n",
        "                xrgrafico.append(xr)\n",
        "                xlgrafico.append(xl)\n",
        "                xugrafico.append(xu)\n",
        "                print(\"El valor de xr es \"+ str(xr))\n",
        "            if (fxu*fxr>0 and fxl*fxr>0):\n",
        "                print(\"No tiene raiz, fin del programa\")\n",
        "        plt.plot(xrgrafico)\n",
        "        plt.plot(xlgrafico)\n",
        "        plt.plot(xugrafico)\n",
        "        plt.show\n",
        "    else:\n",
        "        print(\"No tiene raiz, fin del programa\")\n",
        "biseccion()"
      ],
      "execution_count": 1,
      "outputs": [
        {
          "output_type": "stream",
          "text": [
            "Metodo de la biseccion\n",
            "Suponiendo nuestra funcion sea 0.5x al cuadrado + 2.5x + 4.5\n",
            "Siendo los intervalos [5,7]\n",
            "4.5\n",
            "-2.5\n",
            "El valor de xr es 6.0\n",
            "El valor de xr es 6.5\n",
            "El valor de xr es 6.25\n",
            "El valor de xr es 6.375\n",
            "El valor de xr es 6.4375\n",
            "El valor de xr es 6.40625\n",
            "El valor de xr es 6.390625\n",
            "El valor de xr es 6.3984375\n",
            "El valor de xr es 6.40234375\n",
            "El valor de xr es 6.404296875\n",
            "El valor de xr es 6.4052734375\n",
            "El valor de xr es 6.40478515625\n",
            "El valor de xr es 6.405029296875\n",
            "El valor de xr es 6.4051513671875\n",
            "El valor de xr es 6.40509033203125\n"
          ],
          "name": "stdout"
        },
        {
          "output_type": "display_data",
          "data": {
            "image/png": "[encoded data removed]",
            "text/plain": [
              "<Figure size 432x288 with 1 Axes>"
            ]
          },
          "metadata": {
            "tags": [],
            "needs_background": "light"
          }
        }
      ]
    },
    {
      "cell_type": "code",
      "metadata": {
        "id": "a9jeTVzwUF4B",
        "outputId": "821e1986-a6e4-425b-c7d4-547444c6aa5c",
        "colab": {
          "base_uri": "https://localhost:8080/",
          "height": 350
        }
      },
      "source": [
        "import matplotlib.pyplot as plt\n",
        "import math\n",
        "def fposicion():\n",
        "    print(\"Metodo de la Falsa posicion\")\n",
        "    print(\"Suponiendo nuestra funcion sea 0.5x al cuadrado + 2.5x + 4.5\")\n",
        "    print(\"Siendo los intervalos [-2,-1]\")\n",
        "    xl=-2\n",
        "    xu=-1\n",
        "    fxl=((-0.5*(xl**2))+(2.5*xl)+4.5)\n",
        "    fxu=((-0.5*(xu**2))+(2.5*xu)+4.5)\n",
        "    xrgrafico=[]\n",
        "    xlgrafico=[]\n",
        "    xugrafico=[]\n",
        "    xlgrafico.append(xl)\n",
        "    xugrafico.append(xu)\n",
        "    if(fxu*fxl<0):\n",
        "        xr=(xu-((fxu*(xl-xu)/(fxl-fxu))))\n",
        "        fxr = ((-0.5*(xr**2))+(2.5*xr)+4.5)\n",
        "        xrgrafico.append(xr)\n",
        "        xlgrafico.append(xl)\n",
        "        xugrafico.append(xu)\n",
        "        c=0\n",
        "        print(\"El valor de xr es \"+ str(xr))\n",
        "        er = 1\n",
        "        while er > (10**-5):\n",
        "            if(fxu*fxr<0):\n",
        "                xl=xr\n",
        "                fxl = ((-0.5*(xl**2))+(2.5*xl)+4.5)\n",
        "                fxu = ((-0.5*(xu**2))+(2.5*xu)+4.5)\n",
        "                xr = (xu-((fxu*(xl-xu)/(fxl-fxu))))\n",
        "                fxr = ((-0.5*(xr**2))+(2.5*xr)+4.5)\n",
        "                er=(xr-xl)/xr\n",
        "                xrgrafico.append(xr)\n",
        "                xlgrafico.append(xl)\n",
        "                xugrafico.append(xu)\n",
        "                print(\"El valor de xr es \"+ str(xr))\n",
        "            if (fxl * fxr < 0):\n",
        "                xu=xr\n",
        "                fxl =((-0.5*(xl**2))+(2.5*xl)+4.5)\n",
        "                fxu =((-0.5*(xu**2))+(2.5*xu)+4.5)\n",
        "                xr = (xu-((fxu*(xl-xu)/(fxl-fxu))))\n",
        "                fxr =((-0.5*(xr**2))+(2.5*xr)+4.5)\n",
        "                er = (xr - xl) / xr\n",
        "                xrgrafico.append(xr)\n",
        "                xlgrafico.append(xl)\n",
        "                xugrafico.append(xu)\n",
        "                print(\"El valor de xr es \"+ str(xr))\n",
        "            if (fxu*fxr>0 and fxl*fxr>0):\n",
        "                print(\"No tiene raiz, fin del programa\")\n",
        "        plt.plot(xrgrafico)\n",
        "        plt.plot(xlgrafico)\n",
        "        plt.plot(xugrafico)\n",
        "        plt.show\n",
        "    else:\n",
        "        print(\"No tiene raiz, fin del programa\")\n",
        "fposicion()"
      ],
      "execution_count": 2,
      "outputs": [
        {
          "output_type": "stream",
          "text": [
            "Metodo de la Falsa posicion\n",
            "Suponiendo nuestra funcion sea 0.5x al cuadrado + 2.5x + 4.5\n",
            "Siendo los intervalos [-2,-1]\n",
            "El valor de xr es -1.375\n",
            "El valor de xr es -1.4029850746268657\n"
          ],
          "name": "stdout"
        },
        {
          "output_type": "display_data",
          "data": {
            "image/png": "[encoded data removed]",
            "text/plain": [
              "<Figure size 432x288 with 1 Axes>"
            ]
          },
          "metadata": {
            "tags": [],
            "needs_background": "light"
          }
        }
      ]
    }
  ]
}