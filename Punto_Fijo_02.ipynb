{
  "nbformat": 4,
  "nbformat_minor": 0,
  "metadata": {
    "kernelspec": {
      "display_name": "Python 3",
      "language": "python",
      "name": "python3"
    },
    "language_info": {
      "codemirror_mode": {
        "name": "ipython",
        "version": 3
      },
      "file_extension": ".py",
      "mimetype": "text/x-python",
      "name": "python",
      "nbconvert_exporter": "python",
      "pygments_lexer": "ipython3",
      "version": "3.8.5"
    },
    "colab": {
      "name": "Punto_Fijo_02.ipynb",
      "provenance": []
    }
  },
  "cells": [
    {
      "cell_type": "code",
      "metadata": {
        "id": "cA4ok1-syoXn",
        "outputId": "245497b1-90ec-4671-ed70-59d886b8336e",
        "colab": {
          "base_uri": "https://localhost:8080/",
          "height": 700
        }
      },
      "source": [
        "import matplotlib.pyplot as plt\n",
        "import math\n",
        "def punto():\n",
        "  print(\"Selecciona la ecuacion que quieres validar\")\n",
        "  print(\"1. 2x^2-5\")\n",
        "  print(\"2. 5/2x-1\")\n",
        "  print(\"3. √x+5/2\")\n",
        "  op = int(input())\n",
        "  print(\"Ingresa un valor inicial\")\n",
        "  xin = int(input())\n",
        "  print(\"Ingresa un criterio de paro\")\n",
        "  cri = float(input())\n",
        "  if (op == 1):\n",
        "    fg1(xin,cri)\n",
        "  if (op == 2):\n",
        "    fg2(xin,cri)\n",
        "  if (op == 3):\n",
        "    fg3(xin,cri)\n",
        "\n",
        "\n",
        "def g1(x):\n",
        "  return ((2*(x**2))-5)\n",
        "def xg1(xinicial, criterio=0.0001):\n",
        "  x_vec=[]\n",
        "  x_vec.append(xinicial)\n",
        "  contador = 0\n",
        "  error_vec=[]\n",
        "  error_vec.append(1)\n",
        "  criterio_paro = criterio\n",
        "  iteraciones = True\n",
        "  while(error_vec[contador] > criterio_paro):\n",
        "    x_temp = g1(x_vec[contador])\n",
        "    x_vec.append(x_temp)\n",
        "    print(x_vec)\n",
        "    e_temp = abs(x_vec[contador+1]-x_vec[contador])\n",
        "    error_vec.append(e_temp)\n",
        "    contador += 1\n",
        "    if (x_vec[contador]>=2000):\n",
        "      iteraciones = False\n",
        "      break\n",
        "  print(iteraciones)\n",
        "  plt.plot(x_vec)\n",
        "  plt.show()\n",
        "  plt.plot(error_vec)\n",
        "  plt.show()  \n",
        "def g2(x):\n",
        "    return 5/(2*x-1)\n",
        "def xg2(xinicial, criterio=0.0001):\n",
        "  x_vec=[]\n",
        "  x_vec.append(xinicial)\n",
        "  contador = 0\n",
        "  error_vec=[]\n",
        "  error_vec.append(1)\n",
        "  criterio_paro = criterio\n",
        "  iteraciones = True\n",
        "  while(error_vec[contador] > criterio_paro):\n",
        "    x_temp = g2(x_vec[contador])\n",
        "    x_vec.append(x_temp)\n",
        "    e_temp = abs(x_vec[contador+1]-x_vec[contador])\n",
        "    error_vec.append(e_temp)\n",
        "    contador += 1\n",
        "    if (x_vec[contador]>=2000):\n",
        "      iteraciones = False\n",
        "      break\n",
        "  print(iteraciones)\n",
        "  print(\"raiz = \"+str(x_vec[contador]))\n",
        "  plt.plot(x_vec)\n",
        "  plt.show()\n",
        "  plt.plot(error_vec)\n",
        "  plt.show()\n",
        "def g3(x):\n",
        "  return math.sqrt(((x+5)/2))\n",
        "def xg3(xinicial, criterio=0.0001):\n",
        "  x_vec=[]\n",
        "  x_vec.append(xinicial)\n",
        "  contador = 0\n",
        "  error_vec=[]\n",
        "  error_vec.append(1)\n",
        "  criterio_paro = criterio\n",
        "  iteraciones = True\n",
        "  while(error_vec[contador] > criterio_paro):\n",
        "    x_temp = g3(x_vec[contador])\n",
        "    x_vec.append(x_temp)\n",
        "    e_temp = abs(x_vec[contador+1]-x_vec[contador])\n",
        "    error_vec.append(e_temp)\n",
        "    contador += 1\n",
        "    if (x_vec[contador]>=2000):\n",
        "      iteraciones = False\n",
        "      break\n",
        "  print(iteraciones)\n",
        "  print(\"raiz = \"+str(x_vec[contador]))\n",
        "  plt.plot(x_vec)\n",
        "  plt.show()\n",
        "  plt.plot(error_vec)\n",
        "  plt.show() \n",
        " \n",
        "\n",
        "punto()"
      ],
      "execution_count": 10,
      "outputs": [
        {
          "output_type": "stream",
          "text": [
            "Selecciona la ecuacion que quieres validar\n",
            "1. 2x^2-5\n",
            "2. 5/2x-1\n",
            "3. √x+5/2\n",
            "3\n",
            "Ingresa un valor inicial\n",
            "0\n",
            "Ingresa un criterio de paro\n",
            "0.0001\n",
            "True\n",
            "raiz = 1.8507687927134984\n"
          ],
          "name": "stdout"
        },
        {
          "output_type": "display_data",
          "data": {
            "image/png": "[encoded data removed]",
            "text/plain": [
              "<Figure size 432x288 with 1 Axes>"
            ]
          },
          "metadata": {
            "tags": [],
            "needs_background": "light"
          }
        },
        {
          "output_type": "display_data",
          "data": {
            "image/png": "[encoded data removed]",
            "text/plain": [
              "<Figure size 432x288 with 1 Axes>"
            ]
          },
          "metadata": {
            "tags": [],
            "needs_background": "light"
          }
        }
      ]
    }
  ]
}