{
  "nbformat": 4,
  "nbformat_minor": 0,
  "metadata": {
    "colab": {
      "name": "Gauss-Seidel.ipynb",
      "provenance": [],
      "collapsed_sections": []
    },
    "kernelspec": {
      "name": "python3",
      "display_name": "Python 3"
    }
  },
  "cells": [
    {
      "cell_type": "code",
      "metadata": {
        "colab": {
          "base_uri": "https://localhost:8080/",
          "height": 1000
        },
        "id": "nZ8IpZyTRT27",
        "outputId": "23a09d80-f334-44ef-8dd4-7ef2b12c3672"
      },
      "source": [
        "import matplotlib.pyplot as plt\r\n",
        "import numpy\r\n",
        "m=int(input('Valor de m:'))\r\n",
        "n=int(input('Valor de n:'))\r\n",
        "matrix = numpy.zeros((m,n))\r\n",
        "x=numpy.zeros((m))\r\n",
        "\r\n",
        "vector = numpy.zeros((n))\r\n",
        "comp = numpy.zeros((m))\r\n",
        "\r\n",
        "\r\n",
        "print ('Método de Gauss-Seidel')\r\n",
        "print ('Introduce los renglones y columnas')\r\n",
        "for r in range(0,m):\r\n",
        "    for c in range(0,n):\r\n",
        "        matrix[(r),(c)]=float(input(\"Elemento a[\"+str(r+1)+str(c+1)+\"] \"))\r\n",
        "    vector[(r)]=float(input('b['+str(r+1)+']: '))\r\n",
        "tol = float(input(\"Tolerancia: \"))\r\n",
        "itera = int(input(\"No. Iteraciones: \"))\r\n",
        "\r\n",
        "k=0\r\n",
        "while k < itera:\r\n",
        "    suma=0\r\n",
        "    k = k+1\r\n",
        "    for r in range(0,m):\r\n",
        "        suma=0\r\n",
        "        for c in range(0,n):\r\n",
        "            if (c != r):\r\n",
        "                suma=suma+matrix[r,c]*x[c]               \r\n",
        "        x[r]=(vector[r]-suma)/matrix[r,r]\r\n",
        "        print(\"x[\"+str(r)+\"]: \"+str(x[r]))\r\n",
        "\r\n",
        "    #Comprobación\r\n",
        "    for r in range(0,m):\r\n",
        "        suma=0\r\n",
        "        for c in range(0,n):\r\n",
        "            suma=suma+matrix[r,c]*x[c] \r\n",
        "        comp[r]=suma\r\n",
        "        dif = abs(comp[r]-vector[r])    \r\n",
        "    print(\"Iteraciones : \", k)      \r\n",
        "    \r\n",
        "plt.plot()\r\n",
        "plt.legend()\r\n",
        "plt.show()\r\n",
        "\r\n"
      ],
      "execution_count": 10,
      "outputs": [
        {
          "output_type": "stream",
          "text": [
            "Valor de m:4\n",
            "Valor de n:4\n",
            "Método de Gauss-Seidel\n",
            "Introduce los renglones y columnas\n",
            "Elemento a[11] 4\n",
            "Elemento a[12] -1\n",
            "Elemento a[13] 0\n",
            "Elemento a[14] 0\n",
            "b[1]: 1\n",
            "Elemento a[21] -1\n",
            "Elemento a[22] 4\n",
            "Elemento a[23] -1\n",
            "Elemento a[24] 0\n",
            "b[2]: 1\n",
            "Elemento a[31] 0\n",
            "Elemento a[32] -1\n",
            "Elemento a[33] 4\n",
            "Elemento a[34] -1\n",
            "b[3]: 1\n",
            "Elemento a[41] 0\n",
            "Elemento a[42] 0\n",
            "Elemento a[43] -1\n",
            "Elemento a[44] 4\n",
            "b[4]: 1\n",
            "Tolerancia: .0001\n",
            "No. Iteraciones: 10\n"
          ],
          "name": "stdout"
        },
        {
          "output_type": "stream",
          "text": [
            "No handles with labels found to put in legend.\n"
          ],
          "name": "stderr"
        },
        {
          "output_type": "stream",
          "text": [
            "x[0]: 0.25\n",
            "x[1]: 0.3125\n",
            "x[2]: 0.328125\n",
            "x[3]: 0.33203125\n",
            "Iteraciones :  1\n",
            "x[0]: 0.328125\n",
            "x[1]: 0.4140625\n",
            "x[2]: 0.4365234375\n",
            "x[3]: 0.359130859375\n",
            "Iteraciones :  2\n",
            "x[0]: 0.353515625\n",
            "x[1]: 0.447509765625\n",
            "x[2]: 0.45166015625\n",
            "x[3]: 0.3629150390625\n",
            "Iteraciones :  3\n",
            "x[0]: 0.36187744140625\n",
            "x[1]: 0.4533843994140625\n",
            "x[2]: 0.4540748596191406\n",
            "x[3]: 0.36351871490478516\n",
            "Iteraciones :  4\n",
            "x[0]: 0.3633460998535156\n",
            "x[1]: 0.45435523986816406\n",
            "x[2]: 0.4544684886932373\n",
            "x[3]: 0.3636171221733093\n",
            "Iteraciones :  5\n",
            "x[0]: 0.363588809967041\n",
            "x[1]: 0.4545143246650696\n",
            "x[2]: 0.4545328617095947\n",
            "x[3]: 0.3636332154273987\n",
            "Iteraciones :  6\n",
            "x[0]: 0.3636285811662674\n",
            "x[1]: 0.45454036071896553\n",
            "x[2]: 0.45454339403659105\n",
            "x[3]: 0.36363584850914776\n",
            "Iteraciones :  7\n",
            "x[0]: 0.3636350901797414\n",
            "x[1]: 0.4545446210540831\n",
            "x[2]: 0.4545451173908077\n",
            "x[3]: 0.36363627934770193\n",
            "Iteraciones :  8\n",
            "x[0]: 0.3636361552635208\n",
            "x[1]: 0.4545453181635821\n",
            "x[2]: 0.454545399377821\n",
            "x[3]: 0.36363634984445525\n",
            "Iteraciones :  9\n",
            "x[0]: 0.36363632954089553\n",
            "x[1]: 0.45454543222967914\n",
            "x[2]: 0.4545454455185336\n",
            "x[3]: 0.3636363613796334\n",
            "Iteraciones :  10\n"
          ],
          "name": "stdout"
        },
        {
          "output_type": "display_data",
          "data": {
            "image/png": "[encoded data removed]",
            "text/plain": [
              "<Figure size 432x288 with 1 Axes>"
            ]
          },
          "metadata": {
            "tags": [],
            "needs_background": "light"
          }
        }
      ]
    }
  ]
}