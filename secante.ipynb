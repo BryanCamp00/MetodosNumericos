{
  "nbformat": 4,
  "nbformat_minor": 0,
  "metadata": {
    "colab": {
      "name": "secante.ipynb",
      "provenance": []
    },
    "kernelspec": {
      "name": "python3",
      "display_name": "Python 3"
    }
  },
  "cells": [
    {
      "cell_type": "code",
      "metadata": {
        "colab": {
          "base_uri": "https://localhost:8080/",
          "height": 418
        },
        "id": "ydYUzaBDyGGl",
        "outputId": "78d823b5-7673-45bf-ab23-2bfcb1ac8721"
      },
      "source": [
        "import matplotlib.pyplot as plt\n",
        "import math\n",
        "def secante():\n",
        "  print(\"Secante\")\n",
        "  print(\"Ingresa un x1-1\")\n",
        "  xin = int(input())\n",
        "  print(\"Ingresa un x1\")\n",
        "  xin1 = int(input())\n",
        "  print(\"Ingresa un criterio de paro\")\n",
        "  cri = float(input())\n",
        "  fg1(xin, xin1,cri)\n",
        "\n",
        "def g1(x):\n",
        "  return ((math.e**-x)-x)\n",
        "\n",
        "def fg1(xinicial, xinicial2, criterio=0.0001):\n",
        "  x_vec=[]\n",
        "  x_vec.append(xinicial)\n",
        "  x_vec.append(xinicial2)\n",
        "  contador = 1\n",
        "  error_vec=[]\n",
        "  error_vec.append(1)\n",
        "  error_vec.append(1)\n",
        "  criterio_paro = criterio\n",
        "  iteraciones = True\n",
        "  while(error_vec[contador] > criterio_paro):\n",
        "    xi=x_vec[contador]\n",
        "    xi_1=x_vec[contador-1]\n",
        "    fxi=g1(xi)\n",
        "    fxi_1=g1(xi_1)\n",
        "    xtemp=(xi-((fxi*(xi_1-xi))/(fxi_1-fxi)))\n",
        "    x_vec.append(xtemp)\n",
        "    e_temp = abs(x_vec[contador+1]-x_vec[contador])\n",
        "    error_vec.append(e_temp)\n",
        "    contador += 1\n",
        "    if (x_vec[contador]>=2000):\n",
        "      iteraciones = False\n",
        "      break\n",
        "  print(\"Raiz \"+str(x_vec[contador-1]))\n",
        "  print(iteraciones)\n",
        "  plt.plot(x_vec, label = \"x_r\")\n",
        "  plt.plot(error_vec, label = \"error\")\n",
        "  plt.legend()\n",
        "  plt.show()  \n",
        "\n",
        "secante()"
      ],
      "execution_count": 3,
      "outputs": [
        {
          "output_type": "stream",
          "text": [
            "Secante\n",
            "Ingresa un x1-1\n",
            "0\n",
            "Ingresa un x1\n",
            "12\n",
            "Ingresa un criterio de paro\n",
            "0.0001\n",
            "Raiz 0.5671428357687169\n",
            "True\n"
          ],
          "name": "stdout"
        },
        {
          "output_type": "display_data",
          "data": {
            "image/png": "[encoded data removed]",
            "text/plain": [
              "<Figure size 432x288 with 1 Axes>"
            ]
          },
          "metadata": {
            "tags": [],
            "needs_background": "light"
          }
        }
      ]
    }
  ]
}