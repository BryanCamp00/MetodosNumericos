{
  "nbformat": 4,
  "nbformat_minor": 0,
  "metadata": {
    "kernelspec": {
      "display_name": "Python 3",
      "language": "python",
      "name": "python3"
    },
    "language_info": {
      "codemirror_mode": {
        "name": "ipython",
        "version": 3
      },
      "file_extension": ".py",
      "mimetype": "text/x-python",
      "name": "python",
      "nbconvert_exporter": "python",
      "pygments_lexer": "ipython3",
      "version": "3.8.5"
    },
    "colab": {
      "name": "Listas_II.ipynb",
      "provenance": [],
      "collapsed_sections": []
    }
  },
  "cells": [
    {
      "cell_type": "markdown",
      "metadata": {
        "id": "t9zXfhumaLgP"
      },
      "source": [
        "# Listas - Segunda parte\n",
        "\n",
        "Coo se ha visto en otros notebooks de este curso, el ciclo for puede actuar a través de una lista, esto se hace através de iteradores en la siguiente celda se muestra un ejemplo"
      ]
    },
    {
      "cell_type": "code",
      "metadata": {
        "id": "Slhe8R1GaLgS",
        "outputId": "034e8d26-8f12-4fc7-d1e1-3ab7e3d48fa0"
      },
      "source": [
        "# Celda 01\n",
        "\n",
        "colores = ['Amarillo','Cyan','Magenta','Blanco','Negro', 'Morado','Azul', 'Verde','Lila','Rojo']\n",
        "\n",
        "for color in colores:\n",
        "    print(color)"
      ],
      "execution_count": null,
      "outputs": [
        {
          "output_type": "stream",
          "text": [
            "Amarillo\n",
            "Cyan\n",
            "Magenta\n",
            "Blanco\n",
            "Negro\n",
            "Morado\n",
            "Azul\n",
            "Verde\n",
            "Lila\n",
            "Rojo\n"
          ],
          "name": "stdout"
        }
      ]
    },
    {
      "cell_type": "markdown",
      "metadata": {
        "id": "UGKqjg0GaLgg"
      },
      "source": [
        "También se puede extraer cada elemento a través del índice de la lista esto se haría como se muestra a continuación "
      ]
    },
    {
      "cell_type": "code",
      "metadata": {
        "scrolled": true,
        "id": "2DAw32ViaLgi",
        "outputId": "9dd58853-c172-4a09-8679-3d6af623cea0"
      },
      "source": [
        "# Celda 02\n",
        "\n",
        "colores = ['Amarillo','Cyan','Magenta','Blanco','Negro', 'Morado','Azul', 'Verde','Lila','Rojo']\n",
        "\n",
        "for index in range(len(colores)):\n",
        "    print(colores[index])"
      ],
      "execution_count": null,
      "outputs": [
        {
          "output_type": "stream",
          "text": [
            "Amarillo\n",
            "Cyan\n",
            "Magenta\n",
            "Blanco\n",
            "Negro\n",
            "Morado\n",
            "Azul\n",
            "Verde\n",
            "Lila\n",
            "Rojo\n"
          ],
          "name": "stdout"
        }
      ]
    },
    {
      "cell_type": "markdown",
      "metadata": {
        "id": "rzgg0sv6aLg3"
      },
      "source": [
        "# Trabajando con partes de alguna lista\n",
        "\n",
        "Una característica importante de las listas es que éstas se pueden partir o extraer sólo una parte ellas para poder procesarlas de manera independiente, observe el siguiente código"
      ]
    },
    {
      "cell_type": "code",
      "metadata": {
        "id": "j587IN0JaLg6",
        "outputId": "d5d502d1-386d-4fb5-9959-e7edd860e2c2"
      },
      "source": [
        "# Celda 03\n",
        "\n",
        "colores = ['Amarillo','Cyan','Magenta','Blanco','Negro', 'Morado','Azul', 'Verde','Lila','Rojo']\n",
        "\n",
        "colores_primarios = colores[0:3]\n",
        "\n",
        "colores_otros = colores[0:-3]\n",
        "\n",
        "print(colores_primarios)\n",
        "\n",
        "print(colores_otros)\n",
        "\n",
        "print(colores[-6])"
      ],
      "execution_count": null,
      "outputs": [
        {
          "output_type": "stream",
          "text": [
            "['Amarillo', 'Cyan', 'Magenta']\n",
            "['Amarillo', 'Cyan', 'Magenta', 'Blanco', 'Negro', 'Morado', 'Azul']\n",
            "Negro\n"
          ],
          "name": "stdout"
        }
      ]
    },
    {
      "cell_type": "markdown",
      "metadata": {
        "id": "clZHjKSGaLg_"
      },
      "source": [
        "Se pueden extraer partes de una no importando el subíndice, aunque si no hay valores dentro de los subíndices que ha puesto tendrá un lista vacía como resultado."
      ]
    },
    {
      "cell_type": "code",
      "metadata": {
        "id": "B1Aun7mJaLhA",
        "outputId": "1127e4b2-81a7-4ca7-8a93-ae06e9b48cd7"
      },
      "source": [
        "# Celda 04\n",
        "\n",
        "colores = ['Amarillo','Cyan','Magenta','Blanco','Negro', 'Morado','Azul', 'Verde','Lila','Rojo']\n",
        "\n",
        "otros_colores = colores[3:8]\n",
        "\n",
        "print(otros_colores)\n",
        "\n",
        "otros_colores = colores[8:10]\n",
        "\n",
        "print(otros_colores)\n"
      ],
      "execution_count": null,
      "outputs": [
        {
          "output_type": "stream",
          "text": [
            "['Blanco', 'Negro', 'Morado', 'Azul', 'Verde']\n",
            "['Lila', 'Rojo']\n"
          ],
          "name": "stdout"
        }
      ]
    },
    {
      "cell_type": "markdown",
      "metadata": {
        "id": "OOow6PGraLhI"
      },
      "source": [
        "En caso que no se haya definido un índice inicial y no uno final, se tomara del elemento que se haya indicado hasta el final.  Tal como se muestra en la siguiente celda"
      ]
    },
    {
      "cell_type": "code",
      "metadata": {
        "id": "c67tKc7aaLhJ",
        "outputId": "a24046fc-8638-464b-f658-0546b629e492"
      },
      "source": [
        "# Celda 05\n",
        "\n",
        "colores = ['Amarillo','Cyan','Magenta','Blanco','Negro', 'Morado','Azul', 'Verde','Lila','Rojo']\n",
        "\n",
        "otros_colores = colores[3:]\n",
        "\n",
        "print(otros_colores)\n",
        "\n"
      ],
      "execution_count": null,
      "outputs": [
        {
          "output_type": "stream",
          "text": [
            "['Blanco', 'Negro', 'Morado', 'Azul', 'Verde', 'Lila', 'Rojo']\n"
          ],
          "name": "stdout"
        }
      ]
    },
    {
      "cell_type": "markdown",
      "metadata": {
        "id": "iCfqqLc-aLhP"
      },
      "source": [
        "En caso que no se haya especificado índice inicial y sólo final tomará desde el inicio de la lista hasta la posición - 1 que haya asignado."
      ]
    },
    {
      "cell_type": "code",
      "metadata": {
        "id": "CsoKM1BJaLhR",
        "outputId": "81ca86a5-ced0-4b5c-a0c6-f24be4d0ef37"
      },
      "source": [
        "# Celda 06\n",
        "\n",
        "colores = ['Amarillo','Cyan','Magenta','Blanco','Negro', 'Morado','Azul', 'Verde','Lila','Rojo']\n",
        "\n",
        "otros_colores = colores[:5]\n",
        "\n",
        "print(otros_colores)"
      ],
      "execution_count": null,
      "outputs": [
        {
          "output_type": "stream",
          "text": [
            "['Amarillo', 'Cyan', 'Magenta', 'Blanco', 'Negro']\n"
          ],
          "name": "stdout"
        }
      ]
    },
    {
      "cell_type": "markdown",
      "metadata": {
        "id": "k-w1yTtkaLhd"
      },
      "source": [
        "Si no se han especificado ninguno de los dos índices se tomara toda la listo, esto es muy útil cuando se requiere copiar toda una lista"
      ]
    },
    {
      "cell_type": "markdown",
      "metadata": {
        "id": "E4ZAi-QEaLhe"
      },
      "source": [
        "## List comprehension"
      ]
    },
    {
      "cell_type": "markdown",
      "metadata": {
        "id": "S2GROQaKaLhf"
      },
      "source": [
        "Ahora suponga que quiere definir una lista y después tomar cada elemento y elevarlo al cuadrado, uno de los enfoques sería, primero generar una lista o vector y después tomar cada elemento del vector y hacer la operación matemática, tal como se muestra en la siguiente celda"
      ]
    },
    {
      "cell_type": "code",
      "metadata": {
        "id": "MJk_CUmXaLhi",
        "outputId": "fe51de3c-01ff-43cc-ecec-0bf075974439"
      },
      "source": [
        "# Celda 07\n",
        "\n",
        "x = list(range(0,11,1))\n",
        "y = []\n",
        "print(x)\n",
        "for value in x:\n",
        "    square = value**2\n",
        "    y.append(square)\n",
        "print(y)"
      ],
      "execution_count": null,
      "outputs": [
        {
          "output_type": "stream",
          "text": [
            "[0, 1, 2, 3, 4, 5, 6, 7, 8, 9, 10]\n",
            "[0, 1, 4, 9, 16, 25, 36, 49, 64, 81, 100]\n"
          ],
          "name": "stdout"
        }
      ]
    },
    {
      "cell_type": "markdown",
      "metadata": {
        "id": "xCwFryWiaLhr"
      },
      "source": [
        "La segunda opción es utilizar el enfoque que se llama `list comprehension`, el mismo código se muestra a continuación en la siguiente celda."
      ]
    },
    {
      "cell_type": "code",
      "metadata": {
        "id": "2ELmssf9aLhs",
        "outputId": "9b346b2e-9b04-4d21-e69e-b66fc0b8c79d"
      },
      "source": [
        "# Celda 08\n",
        "\n",
        "y = [value**2 for value in range(1,11,1)]\n",
        "print(y)"
      ],
      "execution_count": null,
      "outputs": [
        {
          "output_type": "stream",
          "text": [
            "[1, 4, 9, 16, 25, 36, 49, 64, 81, 100]\n"
          ],
          "name": "stdout"
        }
      ]
    },
    {
      "cell_type": "markdown",
      "metadata": {
        "id": "42DXWOayaLhx"
      },
      "source": [
        "# Utilizando las listas para poder  hacer asignaciones mútiples\n",
        "\n",
        "Considere el siguiente ejemplo \n"
      ]
    },
    {
      "cell_type": "code",
      "metadata": {
        "id": "el4m_w5waLhz",
        "outputId": "47b269d7-f5ef-48f1-e02e-0401c81f8377"
      },
      "source": [
        "# Celda 09\n",
        "\n",
        "valores = [4,8,16]\n",
        "\n",
        "numero, doble,cuadrado = valores\n",
        "\n",
        "print(numero)\n",
        "print(doble)\n",
        "print(cuadrado)"
      ],
      "execution_count": null,
      "outputs": [
        {
          "output_type": "stream",
          "text": [
            "4\n",
            "8\n",
            "16\n"
          ],
          "name": "stdout"
        }
      ]
    },
    {
      "cell_type": "markdown",
      "metadata": {
        "id": "nJqcma3BaLiH"
      },
      "source": [
        "Observe que se ha hecho una asignación triple, este tipo de situaciones son muy útiles al momento de poder hacer funciones en las que se requiere que regresen varios valores de forma mútliple.  Observe el siguiente código\n",
        " "
      ]
    },
    {
      "cell_type": "code",
      "metadata": {
        "id": "MFWv8MPcaLiM",
        "outputId": "21736008-5f6b-41f0-b187-c044236fe39a"
      },
      "source": [
        "# Celda 10\n",
        "\n",
        "def calculos(valor):\n",
        "    cuadrado = valor**2\n",
        "    cubo = valor **3\n",
        "    raiz = valor**(1/2)\n",
        "    return [cuadrado, cubo, raiz]\n",
        "\n",
        "cuadrado, cubo, raiz = calculos(4)\n",
        "\n",
        "print(\"El cuadrado de 4 es: \", cuadrado)\n",
        "print(\"El cubo de 4 es: \",cubo)\n",
        "print(\"La raiz de 4 es: \", raiz)"
      ],
      "execution_count": null,
      "outputs": [
        {
          "output_type": "stream",
          "text": [
            "El cuadrado de 4 es:  16\n",
            "El cubo de 4 es:  64\n",
            "La raiz de 4 es:  2.0\n"
          ],
          "name": "stdout"
        }
      ]
    },
    {
      "cell_type": "markdown",
      "metadata": {
        "id": "i3qfNmthaLiU"
      },
      "source": [
        "# Operadores extras y muy útiles en listas\n",
        "\n",
        "## max()\n",
        "La función `max()` regresa el valor máximo de una lista NUMERICA y de una lista que contiene texto regesará el valor que esté en el último lugar si se organiza la lista en orden alfabético "
      ]
    },
    {
      "cell_type": "code",
      "metadata": {
        "id": "Xs3yi7-zaLiV",
        "outputId": "fa48b71c-879f-4f07-af90-31a86bdf6bef"
      },
      "source": [
        "# Celda 11\n",
        "\n",
        "colores = ['Amarillo','Cyan','Magenta','Blanco','Negro', 'Morado','Azul', 'Verde','Lila','Rojo']\n",
        "\n",
        "print(max(colores))"
      ],
      "execution_count": null,
      "outputs": [
        {
          "output_type": "stream",
          "text": [
            "Verde\n"
          ],
          "name": "stdout"
        }
      ]
    },
    {
      "cell_type": "code",
      "metadata": {
        "id": "5wdGhGlAaLih",
        "outputId": "268b8cd9-09ff-4223-ba70-03230f9591ca"
      },
      "source": [
        "# Celda 12\n",
        "\n",
        "valores = [ 1, 7, 9 , 92,2, -1, -38]\n",
        "print(max(valores))\n"
      ],
      "execution_count": null,
      "outputs": [
        {
          "output_type": "stream",
          "text": [
            "92\n"
          ],
          "name": "stdout"
        }
      ]
    },
    {
      "cell_type": "markdown",
      "metadata": {
        "id": "e0jPnK-8aLip"
      },
      "source": [
        "## min()\n",
        "El operador min regresa el valor mínimo  de una lista"
      ]
    },
    {
      "cell_type": "code",
      "metadata": {
        "id": "YzxlCh3_aLir",
        "outputId": "fb9d0421-cc23-4de1-8dd7-2654f1636b85"
      },
      "source": [
        "# Celda 13\n",
        "\n",
        "colores = ['Amarillo','Cyan','Magenta','Blanco','Negro', 'Morado','Azul', 'Verde','Lila','Rojo']\n",
        "\n",
        "print(min(colores))"
      ],
      "execution_count": null,
      "outputs": [
        {
          "output_type": "stream",
          "text": [
            "Amarillo\n"
          ],
          "name": "stdout"
        }
      ]
    },
    {
      "cell_type": "code",
      "metadata": {
        "id": "27oqzHJQaLiw",
        "outputId": "b584a457-fca1-4aa1-fb0f-d3a61c1710bd"
      },
      "source": [
        "# Celda 14\n",
        "\n",
        "valores = [ 1, 7, 9 , 92,2, -1, -38]\n",
        "print(min(valores))\n"
      ],
      "execution_count": null,
      "outputs": [
        {
          "output_type": "stream",
          "text": [
            "-38\n"
          ],
          "name": "stdout"
        }
      ]
    },
    {
      "cell_type": "markdown",
      "metadata": {
        "id": "xCVY4l0JaLi1"
      },
      "source": [
        "## sum()\n",
        "Resgresa la suma de los elementos de una lista, **SOLO FUNCIONA CON LISTAS CUYOS ELEMENTOS SON NUMÉRICOS**\n",
        "\n"
      ]
    },
    {
      "cell_type": "code",
      "metadata": {
        "id": "u5AIwolWaLi2",
        "outputId": "862eea5e-6010-4116-81ed-7b54042f448f"
      },
      "source": [
        "# Celda 15\n",
        "\n",
        "valores = [ 1, 7, 9 , 92,2, -1, -38]\n",
        "sum(valores)"
      ],
      "execution_count": null,
      "outputs": [
        {
          "output_type": "execute_result",
          "data": {
            "text/plain": [
              "72"
            ]
          },
          "metadata": {
            "tags": []
          },
          "execution_count": 30
        }
      ]
    },
    {
      "cell_type": "markdown",
      "metadata": {
        "id": "Gid8A0CCaLi9"
      },
      "source": [
        "## `in` y `not in`\n",
        "Estos operadores nos ayudan a verficar si algún elemento está dentro de la lista o no, observe el comportamiento en la siguient celda"
      ]
    },
    {
      "cell_type": "code",
      "metadata": {
        "id": "Pi5A42CQaLi-",
        "outputId": "5efe3473-6819-4243-c896-489d92b8f1aa"
      },
      "source": [
        "# Celda 16\n",
        "\n",
        "colores = ['Amarillo','Cyan','Magenta','Blanco','Negro', 'Morado','Azul', 'Verde','Lila','Rojo']\n",
        "\n",
        "print('beige' in colores)"
      ],
      "execution_count": null,
      "outputs": [
        {
          "output_type": "stream",
          "text": [
            "False\n"
          ],
          "name": "stdout"
        }
      ]
    },
    {
      "cell_type": "code",
      "metadata": {
        "id": "oZniQf1taLjN",
        "outputId": "b926e33c-b96d-4057-8bb2-67280d13e38b"
      },
      "source": [
        "# Celda 17\n",
        "\n",
        "colores = ['Amarillo','Cyan','Magenta','Blanco','Negro', 'Morado','Azul', 'Verde','Lila','Rojo']\n",
        "\n",
        "print('beige' not in colores)"
      ],
      "execution_count": null,
      "outputs": [
        {
          "output_type": "stream",
          "text": [
            "True\n"
          ],
          "name": "stdout"
        }
      ]
    },
    {
      "cell_type": "markdown",
      "metadata": {
        "id": "o4Ww8okWaLjU"
      },
      "source": [
        "## index \n",
        "\n",
        "Este método de las listas ayuda regresa el índice de un elemento si es que el valor de dicho elemento está dentro de la lista, observe el siguiente ejemplo"
      ]
    },
    {
      "cell_type": "code",
      "metadata": {
        "id": "37UfhOSAaLjW",
        "outputId": "1550ef1c-b3f0-4b03-a2d9-39363eeed58d"
      },
      "source": [
        "# Celda 18\n",
        "\n",
        "colores = ['Amarillo','Cyan','Magenta','Blanco','Negro', 'Morado','Azul', 'Verde','Lila','Rojo']\n",
        "\n",
        "print(colores.index('Magenta'))\n",
        "\n",
        "print(colores.index('Beige'))\n"
      ],
      "execution_count": null,
      "outputs": [
        {
          "output_type": "stream",
          "text": [
            "2\n"
          ],
          "name": "stdout"
        },
        {
          "output_type": "error",
          "ename": "ValueError",
          "evalue": "'Beige' is not in list",
          "traceback": [
            "\u001b[0;31m---------------------------------------------------------------------------\u001b[0m",
            "\u001b[0;31mValueError\u001b[0m                                Traceback (most recent call last)",
            "\u001b[0;32m<ipython-input-16-4efb2f9e4292>\u001b[0m in \u001b[0;36m<module>\u001b[0;34m\u001b[0m\n\u001b[1;32m      5\u001b[0m \u001b[0mprint\u001b[0m\u001b[0;34m(\u001b[0m\u001b[0mcolores\u001b[0m\u001b[0;34m.\u001b[0m\u001b[0mindex\u001b[0m\u001b[0;34m(\u001b[0m\u001b[0;34m'Magenta'\u001b[0m\u001b[0;34m)\u001b[0m\u001b[0;34m)\u001b[0m\u001b[0;34m\u001b[0m\u001b[0;34m\u001b[0m\u001b[0m\n\u001b[1;32m      6\u001b[0m \u001b[0;34m\u001b[0m\u001b[0m\n\u001b[0;32m----> 7\u001b[0;31m \u001b[0mprint\u001b[0m\u001b[0;34m(\u001b[0m\u001b[0mcolores\u001b[0m\u001b[0;34m.\u001b[0m\u001b[0mindex\u001b[0m\u001b[0;34m(\u001b[0m\u001b[0;34m'Beige'\u001b[0m\u001b[0;34m)\u001b[0m\u001b[0;34m)\u001b[0m\u001b[0;34m\u001b[0m\u001b[0;34m\u001b[0m\u001b[0m\n\u001b[0m",
            "\u001b[0;31mValueError\u001b[0m: 'Beige' is not in list"
          ]
        }
      ]
    },
    {
      "cell_type": "markdown",
      "metadata": {
        "id": "YpxbANlFaLjd"
      },
      "source": [
        "# Estructuras de datos mutables e inmutables\n",
        "\n",
        "Las listas no son el único tipo de estructuras de datos, existen las cadenas de caracteres o strings, entre otras estructuras, sin embargo, se pueden clasificar en dos grandes grupos, estructuras mutables e inmutables.\n",
        "\n",
        "Una lista es una estructura mutable, ua que aunque se haya declarado e inicializado los elementos,  éstos pueden cambiar uno por uno o toda la lista, esta característica es propia de de las **ESTRUCTURAS DE DATOS MUTABLES**. Se han visto varios ejemplos a lo largo de éste notebook y otros. \n",
        "\n",
        "\n",
        "Una **Estructura de datos inmutable** es aquella en la que una vez que se ha declarado e inicializada nose puden cambiar elemento por elemento sino que se debe de modificar toda la estructura de datos, un ejemplo de estas estructurasd e datos son los `strings` y las `tuplas`, que de manera no formal y muy burda se puede decir que son las listas inmutables, al ser inmutables hay algunos elementos o métodos de las listas que no aplican para las tuplas. \n",
        "\n",
        "En las siguientes celdas se muestra la inumtabilidad de los `strings`.\n"
      ]
    },
    {
      "cell_type": "code",
      "metadata": {
        "id": "lpiVCV4faLje",
        "outputId": "018a5f5f-4534-488b-998d-f48021fe757d"
      },
      "source": [
        "# Celda 19\n",
        "\n",
        "string_01 = 'Hola muchachos'\n",
        "string_01[3] = 'k'"
      ],
      "execution_count": null,
      "outputs": [
        {
          "output_type": "error",
          "ename": "TypeError",
          "evalue": "'str' object does not support item assignment",
          "traceback": [
            "\u001b[0;31m---------------------------------------------------------------------------\u001b[0m",
            "\u001b[0;31mTypeError\u001b[0m                                 Traceback (most recent call last)",
            "\u001b[0;32m<ipython-input-18-3cec6089383b>\u001b[0m in \u001b[0;36m<module>\u001b[0;34m\u001b[0m\n\u001b[1;32m      2\u001b[0m \u001b[0;34m\u001b[0m\u001b[0m\n\u001b[1;32m      3\u001b[0m \u001b[0mstring_01\u001b[0m \u001b[0;34m=\u001b[0m \u001b[0;34m'Hola muchachos'\u001b[0m\u001b[0;34m\u001b[0m\u001b[0;34m\u001b[0m\u001b[0m\n\u001b[0;32m----> 4\u001b[0;31m \u001b[0mstring_01\u001b[0m\u001b[0;34m[\u001b[0m\u001b[0;36m3\u001b[0m\u001b[0;34m]\u001b[0m \u001b[0;34m=\u001b[0m \u001b[0;34m'k'\u001b[0m\u001b[0;34m\u001b[0m\u001b[0;34m\u001b[0m\u001b[0m\n\u001b[0m",
            "\u001b[0;31mTypeError\u001b[0m: 'str' object does not support item assignment"
          ]
        }
      ]
    },
    {
      "cell_type": "code",
      "metadata": {
        "id": "72PEvjuCaLjo",
        "outputId": "7a85b0e3-234d-43a3-8aca-4184ab901e81"
      },
      "source": [
        "# Celda 20\n",
        "\n",
        "string_01 = 'Hola muchachos'\n",
        "print(string_01)\n",
        "\n",
        "string_01 = 'Python programming'\n",
        "print(string_01)"
      ],
      "execution_count": null,
      "outputs": [
        {
          "output_type": "stream",
          "text": [
            "Hola muchachos\n",
            "Python programming\n"
          ],
          "name": "stdout"
        }
      ]
    },
    {
      "cell_type": "markdown",
      "metadata": {
        "id": "fjR9brxxaLjs"
      },
      "source": [
        "# Tuplas\n",
        "Como ya se ha mencionado las tuplas son estructuras numéricas inmutables, la sintaxis para definir una tupla es muy similar a las listas, sólo que en vez de utilizar corchetes (`[ ]`), se utilizarán los paréntesis `(  )`."
      ]
    },
    {
      "cell_type": "markdown",
      "metadata": {
        "id": "WKHRCEgkaLjv"
      },
      "source": [
        "miTupla = (valor1, valor2, valor3)"
      ]
    },
    {
      "cell_type": "code",
      "metadata": {
        "id": "oEErN29laLjw",
        "outputId": "a0e8b41f-4c85-430a-d0bc-2f1de1bb7cf1"
      },
      "source": [
        "Tupla_01 = (6,'hola',8)\n",
        "print(Tupla_01)"
      ],
      "execution_count": null,
      "outputs": [
        {
          "output_type": "stream",
          "text": [
            "(6, 'hola', 8)\n"
          ],
          "name": "stdout"
        }
      ]
    },
    {
      "cell_type": "code",
      "metadata": {
        "scrolled": true,
        "id": "B9IwR17qaLj1",
        "outputId": "e368f822-0395-47c5-e342-735f360bd357"
      },
      "source": [
        "Tupla_01 = (6,'hola',8)\n",
        "Tupla_01[1] = 5\n",
        "print(Tupla_01)"
      ],
      "execution_count": null,
      "outputs": [
        {
          "output_type": "error",
          "ename": "TypeError",
          "evalue": "'tuple' object does not support item assignment",
          "traceback": [
            "\u001b[0;31m---------------------------------------------------------------------------\u001b[0m",
            "\u001b[0;31mTypeError\u001b[0m                                 Traceback (most recent call last)",
            "\u001b[0;32m<ipython-input-21-f9178a093425>\u001b[0m in \u001b[0;36m<module>\u001b[0;34m\u001b[0m\n\u001b[1;32m      1\u001b[0m \u001b[0mTupla_01\u001b[0m \u001b[0;34m=\u001b[0m \u001b[0;34m(\u001b[0m\u001b[0;36m6\u001b[0m\u001b[0;34m,\u001b[0m\u001b[0;34m'hola'\u001b[0m\u001b[0;34m,\u001b[0m\u001b[0;36m8\u001b[0m\u001b[0;34m)\u001b[0m\u001b[0;34m\u001b[0m\u001b[0;34m\u001b[0m\u001b[0m\n\u001b[0;32m----> 2\u001b[0;31m \u001b[0mTupla_01\u001b[0m\u001b[0;34m[\u001b[0m\u001b[0;36m1\u001b[0m\u001b[0;34m]\u001b[0m \u001b[0;34m=\u001b[0m \u001b[0;36m5\u001b[0m\u001b[0;34m\u001b[0m\u001b[0;34m\u001b[0m\u001b[0m\n\u001b[0m\u001b[1;32m      3\u001b[0m \u001b[0mprint\u001b[0m\u001b[0;34m(\u001b[0m\u001b[0mTupla_01\u001b[0m\u001b[0;34m)\u001b[0m\u001b[0;34m\u001b[0m\u001b[0;34m\u001b[0m\u001b[0m\n",
            "\u001b[0;31mTypeError\u001b[0m: 'tuple' object does not support item assignment"
          ]
        }
      ]
    },
    {
      "cell_type": "code",
      "metadata": {
        "id": "71XKSc8PaLj6",
        "outputId": "a9b668e2-8950-4533-da1d-3f76baed67c8"
      },
      "source": [
        "Tupla_01 =(6, 8, 10)\n",
        "print(Tupla_01)\n",
        "\n",
        "Tupla_01 = (5,6)\n",
        "print(Tupla_01)"
      ],
      "execution_count": null,
      "outputs": [
        {
          "output_type": "stream",
          "text": [
            "(6, 8, 10)\n",
            "(5, 6)\n"
          ],
          "name": "stdout"
        }
      ]
    },
    {
      "cell_type": "markdown",
      "metadata": {
        "id": "wkS0i0PoaLj_"
      },
      "source": [
        "# Ejercicios\n",
        "1.- Escribir un programa para comparar y obtener la diferencia de dos listas.\n",
        "\n",
        "2.- Escribir un programa que lea una lista de 10 elementos y que indique el segundo número menor de la lista.\n",
        "\n",
        "3.- Escribir un programa que cuente la frecuencia de los elementos de una lista. \n",
        "\n",
        "4.- Escribir un programa que muestre los elementos que se repiten en dos listas de 20 elementos cada una, la lista debe ser llenada a través del teclado. \n"
      ]
    },
    {
      "cell_type": "code",
      "metadata": {
        "id": "RxuYhouWaLkA",
        "outputId": "cd30249a-e3f4-44a3-a0b6-6052fe7669ed",
        "colab": {
          "base_uri": "https://localhost:8080/",
          "height": 68
        }
      },
      "source": [
        "#ejercicio 1\n",
        "x = [\"luis\",\"paco\",\"robert\",\"gala\"]\n",
        "y = [\"luis\",\"bryan\",\"esteban\", \"gala\"]\n",
        "\n",
        "print(\"Teniendo la siguiente lista 1: \" + str(x))\n",
        "print(\"Teniendo la siguiente lista 2: \" + str(y))\n",
        "\n",
        "x = [x for x in x if x not in y]\n",
        "\n",
        "print(\"La diferencia de las dos listas es la siguiente: \" + str(x))"
      ],
      "execution_count": 14,
      "outputs": [
        {
          "output_type": "stream",
          "text": [
            "Teniendo la siguiente lista 1: ['luis', 'paco', 'robert', 'gala']\n",
            "Teniendo la siguiente lista 2: ['luis', 'bryan', 'esteban', 'gala']\n",
            "La diferencia de las dos listas es la siguiente: ['paco', 'robert']\n"
          ],
          "name": "stdout"
        }
      ]
    },
    {
      "cell_type": "code",
      "metadata": {
        "id": "YEK7-JoxO2pv",
        "outputId": "e716460a-f985-4fd8-8eb5-71a5a6d13696",
        "colab": {
          "base_uri": "https://localhost:8080/",
          "height": 51
        }
      },
      "source": [
        "#ejercicio 2\n",
        "lista = [7, 2, 9, 1, 16, 6, 28, 3, 8, 22]\n",
        "print(\"Teniendo la siguiente lista: \" + str(lista))\n",
        "minimo = min(lista)\n",
        "lista.remove(minimo) \n",
        "minimo1 = min(lista)\n",
        "print(\"El segundo número menor de la lista es: \" + str(minimo1))\n",
        "lista.append(minimo)"
      ],
      "execution_count": 15,
      "outputs": [
        {
          "output_type": "stream",
          "text": [
            "Teniendo la siguiente lista: [7, 2, 9, 1, 16, 6, 28, 3, 8, 22]\n",
            "El segundo número menor de la lista es: 2\n"
          ],
          "name": "stdout"
        }
      ]
    },
    {
      "cell_type": "code",
      "metadata": {
        "id": "aqNPezjWOzVt",
        "outputId": "36cb8638-5b02-4b80-e3a7-4182e16f727d",
        "colab": {
          "base_uri": "https://localhost:8080/",
          "height": 68
        }
      },
      "source": [
        "#ejercicio 3\n",
        "lista = [7, 2, 7, 9, 7, 2, 4, 1, 3, 6, 3, 9, 4, 5, 1, 1]\n",
        "print(\"Teniendo la siguiente lista: \" + str(lista))\n",
        "x = input(\"Ingrese el número a contar: \")\n",
        "conteo = lista.count(int(x))\n",
        "\n",
        "print(\"El número que ingreso aparece \" + str(conteo) + \" en la lista.\")"
      ],
      "execution_count": 9,
      "outputs": [
        {
          "output_type": "stream",
          "text": [
            "Teniendo la siguiente lista: [7, 2, 7, 9, 7, 2, 4, 1, 3, 6, 3, 9, 4, 5, 1, 1]\n",
            "Ingrese el número a contar: 5\n",
            "El número que ingreso aparece 1 en la lista.\n"
          ],
          "name": "stdout"
        }
      ]
    },
    {
      "cell_type": "code",
      "metadata": {
        "id": "AfoSx4OkOzD2"
      },
      "source": [
        "#ejercicio 4\n",
        "lista1 = []\n",
        "for x in range (20):\n",
        "  valor1=int(input(\"Ingrese una lista de numeros:\"))\n",
        "  lista1.append(valor1)\n",
        "print(lista1)\n",
        "lista2 = []\n",
        "for y in range (20):\n",
        "  valor2=int(input(\"Ingrese una lista de numeros:\"))\n",
        "  lista2.append(valor2)\n",
        "print(lista2)\n",
        "\n",
        "lista3 = set(lista1)\n",
        "lista4 = set(lista2)\n",
        "lista5 = lista3&lista4\n",
        "print(f\"Estos son los numeros que estan en ambas listas\")\n",
        "print(lista5)\n"
      ],
      "execution_count": null,
      "outputs": []
    }
  ]
}